{
 "cells": [
  {
   "cell_type": "markdown",
   "id": "915dc8c3-3aa8-4ff6-b54e-8dcb1a1cc6a2",
   "metadata": {},
   "source": [
    "# Cyclo-octane"
   ]
  },
  {
   "cell_type": "markdown",
   "id": "03cd375d",
   "metadata": {},
   "source": [
    "The goal of this notebook is to understand the topology of the energy landscape of _cyclo-octane_."
   ]
  },
  {
   "cell_type": "markdown",
   "id": "236410b4-1ee6-4fad-b61b-7b7b72b516c7",
   "metadata": {},
   "source": [
    "- Martin, Shawn et al. _Topology of cyclo-octane energy landscape._ **The Journal of chemical physics** vol. 132,23 (2010)\n",
    "- Stolz, B. J., Tanner, J., Harrington, H. A., & Nanda, V.  _Geometric anomaly detection in data._ **Proceedings of the National Academy of Sciences of the United States of America**, 117(33), 19664–19669 (2020)."
   ]
  },
  {
   "cell_type": "markdown",
   "id": "ad97cc54",
   "metadata": {},
   "source": [
    "<img src='../figures/Conformation-space-of-cyclo-octane.jpeg' width=\"400\" height=\"100\"> "
   ]
  },
  {
   "cell_type": "markdown",
   "id": "995d8fe1",
   "metadata": {},
   "source": [
    "**Conformation space of cyclo-octane.** The set of conformations of cyclo-octane can be represented as a surface in a high- dimensional space. (a) Various conformations of cyclo-octane. (b) These conformations are represented by the 3D coordinates of their atoms. The coordinates are concatenated into vectors and shown as columns of a data matrix. As an example, the entry $c_{1,1,x}$ of the matrix denotes the $x$-coordinate of the first carbon atom in the first molecule. (c) The Isomap projection is used to obtain a lower dimensional visualization of the data. "
   ]
  },
  {
   "cell_type": "markdown",
   "id": "440d2e2f-7637-45a9-a6dc-e9c7b128288a",
   "metadata": {},
   "source": [
    "## 1. Point cloud"
   ]
  },
  {
   "cell_type": "markdown",
   "id": "638999ad-c30d-4470-b5d3-07cf5a18bf7c",
   "metadata": {},
   "source": [
    "**Load the dataset from the folder _data_, file _'pointsCycloOctane.mat'_**"
   ]
  },
  {
   "cell_type": "code",
   "execution_count": null,
   "id": "2a9f249a-a46f-4858-8575-f346633df786",
   "metadata": {},
   "outputs": [],
   "source": []
  },
  {
   "cell_type": "markdown",
   "id": "287afaa6-eb86-43cf-a9cb-16e093fcd4aa",
   "metadata": {},
   "source": [
    "* How many points has the point cloud? How many coordinates does each point have?"
   ]
  },
  {
   "cell_type": "markdown",
   "id": "fcf62715-4dee-4039-9bc4-c4fe24619a25",
   "metadata": {},
   "source": [
    "## 2. Visualization"
   ]
  },
  {
   "cell_type": "markdown",
   "id": "70ce1c16-e04a-4d20-9b2b-ee16bef3527a",
   "metadata": {},
   "source": [
    "**Compute and plot a 3D visualization of the point cloud using Isomap**"
   ]
  },
  {
   "cell_type": "code",
   "execution_count": 20,
   "id": "9864a567-ffc5-4925-a60b-44f1c5de1293",
   "metadata": {},
   "outputs": [],
   "source": []
  },
  {
   "cell_type": "markdown",
   "id": "284863f8-6d46-4d66-9c45-44dac042dfdd",
   "metadata": {},
   "source": [
    "## 3. Persistent homology"
   ]
  },
  {
   "cell_type": "markdown",
   "id": "aa26d5e4-71fc-4e07-bd23-322a3b70d44a",
   "metadata": {},
   "source": [
    "**Compute the persistent homology of a random subsample of 2000 points from the point cloud up to dimension 2** "
   ]
  },
  {
   "cell_type": "code",
   "execution_count": null,
   "id": "75310341-c273-46b9-9d2d-e8598d498d48",
   "metadata": {},
   "outputs": [],
   "source": []
  },
  {
   "cell_type": "markdown",
   "id": "ea301798-aeca-4071-b343-10e63a30b2a4",
   "metadata": {},
   "source": [
    "* What are the Betti numbers of the underlying structure? "
   ]
  },
  {
   "cell_type": "markdown",
   "id": "da12fc74-8c84-4191-a76e-54ab76dca547",
   "metadata": {},
   "source": [
    "## 4. Geometric anomalies"
   ]
  },
  {
   "cell_type": "markdown",
   "id": "d1e08c58-4088-419d-a2d3-21c6d62d1557",
   "metadata": {},
   "source": [
    "**Compute the local persistent homology for every point in the subsample of the dataset.**"
   ]
  },
  {
   "cell_type": "markdown",
   "id": "3fdbcc68-6fab-42b1-9290-bc8973ff5c5b",
   "metadata": {},
   "source": [
    "*Hint: Use the auxiliary functions from utils.py*"
   ]
  },
  {
   "cell_type": "code",
   "execution_count": null,
   "id": "8bf6eaf8-1f0d-4d5b-ad4a-f9cc9d299713",
   "metadata": {},
   "outputs": [],
   "source": []
  },
  {
   "cell_type": "markdown",
   "id": "0f1ec06c-774d-4657-b20e-55684a2e4a2b",
   "metadata": {},
   "source": [
    "* Are there singularities in this geometric structure? And boundary? Plot the answer in a Isomap projection."
   ]
  },
  {
   "cell_type": "markdown",
   "id": "829f9d91-c010-4ed3-84be-dc0599d1695e",
   "metadata": {},
   "source": [
    "## Local dimension"
   ]
  },
  {
   "cell_type": "markdown",
   "id": "d0aa86cc-7a5b-474e-a708-1bec05b7ce6c",
   "metadata": {},
   "source": [
    "**Compute the local dimension for every point in the subsample of the dataset.**"
   ]
  },
  {
   "cell_type": "markdown",
   "id": "025afbc5-87d2-4658-ba3b-3d04d2028721",
   "metadata": {},
   "source": [
    "*Hint: Use the auxiliary functions from utils.py*"
   ]
  },
  {
   "cell_type": "code",
   "execution_count": null,
   "id": "cda76778-1c0b-4c50-8740-f43b3645d7b2",
   "metadata": {},
   "outputs": [],
   "source": []
  },
  {
   "cell_type": "markdown",
   "id": "b232989b-0175-455f-9cb9-434e2432ca02",
   "metadata": {},
   "source": [
    "* What's the local dimension at every point? Plot the answer in a Isomap projection.\n",
    "* What's the rate of points with local dimension 2?"
   ]
  }
 ],
 "metadata": {
  "kernelspec": {
   "display_name": "Python 3",
   "language": "python",
   "name": "python3"
  },
  "language_info": {
   "codemirror_mode": {
    "name": "ipython",
    "version": 3
   },
   "file_extension": ".py",
   "mimetype": "text/x-python",
   "name": "python",
   "nbconvert_exporter": "python",
   "pygments_lexer": "ipython3",
   "version": "3.6.8"
  }
 },
 "nbformat": 4,
 "nbformat_minor": 5
}
