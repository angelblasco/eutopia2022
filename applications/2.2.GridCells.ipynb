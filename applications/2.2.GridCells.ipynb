{
 "cells": [
  {
   "cell_type": "markdown",
   "id": "a52627ae-ae79-44d4-b246-c739ca83f485",
   "metadata": {},
   "source": [
    "# Grid Cells"
   ]
  },
  {
   "cell_type": "markdown",
   "id": "48776045",
   "metadata": {},
   "source": [
    "The goal of this notebook is to understand the topology of the population activity of a module of grid cells."
   ]
  },
  {
   "cell_type": "markdown",
   "id": "bfb39841",
   "metadata": {},
   "source": [
    "<video controls width=\"400\" src=\"../figures/population_experiments.mp4\" />"
   ]
  },
  {
   "cell_type": "markdown",
   "id": "d4a3d3ba-875a-4e2a-84dc-c4df8a8a233d",
   "metadata": {},
   "source": [
    "- Gardner, R.J., Hermansen, E., Pachitariu, M. et al. _Toroidal topology of population activity in grid cells._ **Nature** 602, 123–128 (2022)."
   ]
  },
  {
   "cell_type": "markdown",
   "id": "471310ec",
   "metadata": {},
   "source": [
    "**Grid cells** are neurons present in rats and other mammals (including hummans) that constitute a positioning system in the brain, encoding a neural representation of a metric in the 2-dimensional space. The arrangement of each grid cell's spatial firing fields, all at equal distances from their neighbours, forms an hexagonal pattern as discovered by Edvard Moser and May-Britt Moser, who were awarded the 2014 Nobel Prize in Physiology or Medicine for their work."
   ]
  },
  {
   "cell_type": "markdown",
   "id": "2c790c04",
   "metadata": {},
   "source": [
    "<video controls src=\"../figures/grid_cells.mp4\" />"
   ]
  },
  {
   "cell_type": "markdown",
   "id": "9569be42",
   "metadata": {},
   "source": [
    "## 1. The point cloud"
   ]
  },
  {
   "cell_type": "markdown",
   "id": "9cbe77b8",
   "metadata": {},
   "source": [
    "**Download the data from https://figshare.com/articles/dataset/Toroidal_topology_of_population_activity_in_grid_cells/16764508**\n",
    "\n",
    "**Load the file 'rat_r_day1_grid_modules_1_2_3.npz' in a variable *data* (we will only focus on *Rat R Day 1*).**"
   ]
  },
  {
   "cell_type": "code",
   "execution_count": 53,
   "id": "67938e1f",
   "metadata": {},
   "outputs": [],
   "source": [
    "data = "
   ]
  },
  {
   "cell_type": "markdown",
   "id": "98e553b9-9445-4bff-b1e4-da3a1ccb8589",
   "metadata": {},
   "source": [
    "* **Question:** What's the data available in this file?"
   ]
  },
  {
   "cell_type": "markdown",
   "id": "5de9f3b8",
   "metadata": {},
   "source": [
    "## 2. Position"
   ]
  },
  {
   "cell_type": "markdown",
   "id": "f7d11711",
   "metadata": {},
   "source": [
    "We select the interval of the session when the rat is moving in an open field, that is, a square track (this information is available in the file 'rat_r_day1_sessions.txt')."
   ]
  },
  {
   "cell_type": "code",
   "execution_count": null,
   "id": "ad255645-49c1-4e79-891e-04d332c11f19",
   "metadata": {},
   "outputs": [],
   "source": [
    "#open_field_1, start=7457, end=16045, valid_times=[7457,14778;14890,16045]\n",
    "#Here we compute the intervals of time at which the rat was moving in open field.\n",
    "start1= 7457.01\n",
    "end1  = 14778.00\n",
    "tmin1 = int((start1-data['t'].min())*100)\n",
    "tmax1 = int((end1-data['t'].min())*100)\n",
    "start2= 14890.01\n",
    "end2  = 16045.00\n",
    "tmin2 = int((start2-data['t'].min())*100)\n",
    "tmax2 = int((end2-data['t'].min())*100)"
   ]
  },
  {
   "cell_type": "markdown",
   "id": "199ba744-c7a1-4f21-93ae-f6e3484fd94c",
   "metadata": {},
   "source": [
    "**Create a variable *positions* and restrict the positions _data['x']_ and _data['y']_ to the intervals _[tmin1, tmax1]_ and _[tmin2, tmax2]_**"
   ]
  },
  {
   "cell_type": "code",
   "execution_count": 4,
   "id": "c701042a",
   "metadata": {},
   "outputs": [],
   "source": [
    "positions ="
   ]
  },
  {
   "cell_type": "markdown",
   "id": "bab6f1fc-98f3-4890-b4b1-3164790c21cb",
   "metadata": {},
   "source": [
    "**Plot the path of the rat in the square track.**"
   ]
  },
  {
   "cell_type": "code",
   "execution_count": null,
   "id": "03cef3f8",
   "metadata": {},
   "outputs": [],
   "source": []
  },
  {
   "cell_type": "markdown",
   "id": "2f485b4f",
   "metadata": {},
   "source": [
    "## 3. Firing rates (module 1)"
   ]
  },
  {
   "cell_type": "markdown",
   "id": "6d02c146-ace1-4751-9561-bb64f220fe29",
   "metadata": {},
   "source": [
    "We restrict to the firing activity of the neurons at module 1."
   ]
  },
  {
   "cell_type": "code",
   "execution_count": null,
   "id": "dd958e68-6302-43a9-b968-b59f878e64b8",
   "metadata": {},
   "outputs": [],
   "source": [
    "mod = data['spikes_mod1'].item() #this variable encodes, for every cell, the list of times of the spikes"
   ]
  },
  {
   "cell_type": "markdown",
   "id": "b6bc2e19",
   "metadata": {},
   "source": [
    "We first compute (linearly infer) the position of the rat at the firing times."
   ]
  },
  {
   "cell_type": "code",
   "execution_count": 6,
   "id": "495b5ff1",
   "metadata": {},
   "outputs": [],
   "source": [
    "def linear_combination(data_pos, data_spikes, index0, t0, delta_t):\n",
    "    '''\n",
    "    Computes (as a linear inference) the position of the animal at the spike times (data_spikes) from the data of its position (data_pos)\n",
    "    at equidistant intervals of time (delta_t)\n",
    "    '''\n",
    "    n = len(index0)\n",
    "    index1 = [int(x) for x in index0 + np.ones(n)]\n",
    "    v = (data_pos[index1]-data_pos[index0])/delta_t * (data_spikes-t0) + data_pos[index0]\n",
    "    return v\n",
    "\n",
    "pos = {} #this variable will encode, for every cell, the list of positions associated to the spikes\n",
    "tmin = data['t'].min() #the starting time\n",
    "\n",
    "for cell, spikes in mod.items():\n",
    "    spikes = mod[cell]\n",
    "    openfield = spikes[np.logical_or((spikes<end1) & (spikes>start1), (spikes<end2) & (spikes>start2))]\n",
    "    nspikes = len(openfield)\n",
    "    pos[cell] = np.zeros((2, nspikes))\n",
    "    t0 = np.floor(openfield*100)/100 #2 decimals\n",
    "    index0 = [int(x) for x in np.floor((t0-tmin)*100)]\n",
    "    pos[cell][0] = linear_combination(data['x'], openfield, index0, t0, 0.01)\n",
    "    pos[cell][1] = linear_combination(data['y'], openfield, index0, t0, 0.01)"
   ]
  },
  {
   "cell_type": "markdown",
   "id": "8fcc2939",
   "metadata": {},
   "source": [
    "We compute now the firing rate maps"
   ]
  },
  {
   "cell_type": "code",
   "execution_count": 7,
   "id": "40ba240b",
   "metadata": {},
   "outputs": [],
   "source": [
    "from scipy.ndimage import gaussian_filter\n",
    "\n",
    "def discretize(cell_dgm, m=0, M=1, res=30, filt=None, sigma=0.5):\n",
    "    '''\n",
    "    Discretize one cell map, returns a 2D-histogram of size (res x res), the grid representing [m, M]^2.\n",
    "    '''\n",
    "    h2d = np.histogram2d(cell_dgm[0,:], cell_dgm[1,:], bins=res, range=[[m, M],[m, M]])[0]\n",
    "    h2d = np.flip(h2d.T, axis=0)\n",
    "    if filt==\"gaussian\":\n",
    "        h2d = gaussian_filter(h2d, sigma=sigma)\n",
    "    return h2d\n",
    "\n",
    "n_bins = 30 # number of pixels (by side) used to discretize the square track\n",
    "l0 = -0.725 # left bound\n",
    "l1 = 0.725  # right bound\n",
    "\n",
    "smooth_positions = discretize(positions.T,l0, l1, n_bins, \"gaussian\", 1)  # the (smooth) frequency of the animal at every pixel\n",
    "\n",
    "fire_rate_grid = {} # encodes, for every cell, the firing rate for every pixel (over the requency of the aminal at the pixel)\n",
    "for cell in pos.keys():\n",
    "    fire_rate = discretize(pos[cell], l0, l1, n_bins, \"gaussian\", 1)\n",
    "    fire_rate_grid[cell] = (fire_rate/smooth_positions).flatten()"
   ]
  },
  {
   "cell_type": "markdown",
   "id": "97ef8563",
   "metadata": {},
   "source": [
    "**Plot the firing rate maps for every grid cell in module 1.**"
   ]
  },
  {
   "cell_type": "code",
   "execution_count": null,
   "id": "0fd8ec48",
   "metadata": {},
   "outputs": [],
   "source": []
  },
  {
   "cell_type": "markdown",
   "id": "b02be19c-4255-41c0-ad7c-8a959966e25b",
   "metadata": {},
   "source": [
    "## 3. The geometry of neural activity"
   ]
  },
  {
   "cell_type": "code",
   "execution_count": 9,
   "id": "4d25f71e-eba5-4180-a004-f7bb80b2eaf0",
   "metadata": {},
   "outputs": [
    {
     "data": {
      "text/plain": [
       "(900, 166)"
      ]
     },
     "execution_count": 9,
     "metadata": {},
     "output_type": "execute_result"
    }
   ],
   "source": [
    "population_data = np.array(list(fire_rate_grid.values())).T \n",
    "#every point in the point cloud encodes the firing rate \n",
    "#at a certain pixel of all the neurons. \n",
    "population_data.shape"
   ]
  },
  {
   "cell_type": "markdown",
   "id": "48af2a15-f62c-4158-8fd4-43860d2f31de",
   "metadata": {},
   "source": [
    "**Question:** How many pixels are in the square track? How many grid cells are in the module?"
   ]
  },
  {
   "cell_type": "markdown",
   "id": "c25a09f7-22a8-44e3-9bda-a195359b335a",
   "metadata": {},
   "source": [
    "**Compute the Isomap projection on 3 dimensions of the population data.**"
   ]
  },
  {
   "cell_type": "code",
   "execution_count": null,
   "id": "476b317d-58d9-4881-9388-d45e2bc92bdd",
   "metadata": {},
   "outputs": [],
   "source": []
  },
  {
   "cell_type": "markdown",
   "id": "4bf2e09f-1f3d-40ce-9a25-1486b9e31d6a",
   "metadata": {},
   "source": [
    "**Plot the embedding.**"
   ]
  },
  {
   "cell_type": "code",
   "execution_count": null,
   "id": "259eed1a-5b38-4058-87a1-6846ac47a35f",
   "metadata": {},
   "outputs": [],
   "source": []
  },
  {
   "cell_type": "markdown",
   "id": "d3bc77a7-10a4-4e9c-976b-db94203a23e6",
   "metadata": {},
   "source": [
    "**Question:** Can you identify the shape of the point cloud?"
   ]
  },
  {
   "cell_type": "markdown",
   "id": "aff17de6-041f-4bf6-96aa-e8c1a8e66457",
   "metadata": {},
   "source": [
    "## 4. Persistent Homology"
   ]
  },
  {
   "cell_type": "markdown",
   "id": "55727a42-bb11-4ce1-b54d-502017da1336",
   "metadata": {},
   "source": [
    "**Compute the geodesic distance between every pair of the points in the population data.** Use k=15"
   ]
  },
  {
   "cell_type": "markdown",
   "id": "98300739-1792-4ebd-882b-5d2bafda6a8d",
   "metadata": {},
   "source": [
    "*Hint: Use the auxiliary functions from utils.py*"
   ]
  },
  {
   "cell_type": "code",
   "execution_count": null,
   "id": "91fa74e0-d3eb-46ab-9953-80462475ca77",
   "metadata": {},
   "outputs": [],
   "source": [
    "distance_matrix = "
   ]
  },
  {
   "cell_type": "markdown",
   "id": "11fea219-d927-4776-9797-afcfaf7f56ac",
   "metadata": {},
   "source": [
    "**Compute and plot the persistent diagram using as input the distance matrix of estimated geodesic distances**"
   ]
  },
  {
   "cell_type": "code",
   "execution_count": null,
   "id": "7473aa98-64f2-4513-b327-085a7cf1d56e",
   "metadata": {},
   "outputs": [],
   "source": []
  },
  {
   "cell_type": "markdown",
   "id": "3a579318-3051-447a-8bb2-062087215b9f",
   "metadata": {},
   "source": [
    "## 5. Orientability"
   ]
  },
  {
   "cell_type": "markdown",
   "id": "be30dbd0-5bca-4ea0-98d2-250e166de10f",
   "metadata": {},
   "source": [
    "**Question:** Is the manifold orientable?\n",
    "Compare the persistence diagrams with coefficients in $\\mathbb{Z}_2$ and $\\mathbb{Z}_3$. \n",
    "\n",
    "If you are too enthusiastic, compute the local dimension at every point and decide if there are singularities or boundary."
   ]
  },
  {
   "cell_type": "code",
   "execution_count": null,
   "id": "693f2ca8-747c-4e20-87e6-11204311b048",
   "metadata": {},
   "outputs": [],
   "source": []
  }
 ],
 "metadata": {
  "kernelspec": {
   "display_name": "Python 3",
   "language": "python",
   "name": "python3"
  },
  "language_info": {
   "codemirror_mode": {
    "name": "ipython",
    "version": 3
   },
   "file_extension": ".py",
   "mimetype": "text/x-python",
   "name": "python",
   "nbconvert_exporter": "python",
   "pygments_lexer": "ipython3",
   "version": "3.6.8"
  }
 },
 "nbformat": 4,
 "nbformat_minor": 5
}
