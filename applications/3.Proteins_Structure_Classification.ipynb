{
 "cells": [
  {
   "cell_type": "markdown",
   "metadata": {},
   "source": [
    "## Protein Classification"
   ]
  },
  {
   "cell_type": "markdown",
   "metadata": {},
   "source": [
    "The goal of this notebook is to reproduce the results from:\n",
    "- Cang, Z., Mu, L., Wu, K., et al. (2015). **A topological approach for protein classification.** Computational and Mathematical Biophysics, 3(1)\n",
    "- Xia, K. & Wei, G. W. (2014). **Persistent homology analysis of protein structure, flexibility, and folding**. International journal for numerical methods in biomedical engineering, 30(8), 814–844\n",
    "- Pun, C. S., Xia K., Lee, S. X. (2018) **Persistent-Homology-based Machine Learning and its Applications -- A Survey.** arXiv:1811.00252 \n"
   ]
  },
  {
   "cell_type": "markdown",
   "metadata": {},
   "source": [
    "## 1. The problem\n",
    "\n",
    "The problem consist of classify the secondary structure of proteins from its embedding in $\\mathbb{R}^3$.\n"
   ]
  },
  {
   "cell_type": "markdown",
   "metadata": {},
   "source": [
    "<img src=\"../figures/proteins.png\" width=\"700\">"
   ]
  },
  {
   "cell_type": "markdown",
   "metadata": {},
   "source": [
    "We use the data available at the protein database **SCOPe**.\n",
    "- N. K. Fox, S. E. Brenner, and J.M. Chandonia. (2014)  Scope:  **Structural classification of proteins-extended,  integrating scop and astral data and classification of new structures.** Nucleic acids research, 42(D1):D304–D309."
   ]
  },
  {
   "cell_type": "markdown",
   "metadata": {},
   "source": [
    "See examples: \n",
    "    \n",
    "- **all alpha**: https://scop.berkeley.edu/sunid=16311\n",
    "- **all beta**: https://scop.berkeley.edu/sunid=22836\n",
    "- **alpha and beta:** https://scop.berkeley.edu/sunid=28513"
   ]
  },
  {
   "cell_type": "markdown",
   "metadata": {},
   "source": [
    "The main idea is to quantify geometric properties of the structure of proteins from its persistence diagrams."
   ]
  },
  {
   "cell_type": "markdown",
   "metadata": {},
   "source": [
    "<img src=\"../figures/alpha.jpg\" width=\"600\">"
   ]
  },
  {
   "cell_type": "markdown",
   "metadata": {},
   "source": [
    "<img src=\"../figures/beta.jpg\" width=\"600\">"
   ]
  },
  {
   "cell_type": "code",
   "execution_count": 4,
   "metadata": {},
   "outputs": [],
   "source": [
    "#!pip install biopython\n",
    "from Bio.PDB import *\n",
    "import numpy as np\n",
    "import urllib.request\n",
    "\n",
    "#!pip install ripser\n",
    "from ripser import Rips\n",
    "import matplotlib.pyplot as plt\n",
    "import pandas as pd\n",
    "import warnings\n",
    "warnings.filterwarnings(\"ignore\")\n",
    "\n",
    "from sklearn.ensemble import RandomForestClassifier\n",
    "from sklearn.model_selection import train_test_split"
   ]
  },
  {
   "cell_type": "markdown",
   "metadata": {},
   "source": [
    "We will next download from the data bank SCOPe, the files .pdb from proteins we will study. "
   ]
  },
  {
   "cell_type": "markdown",
   "metadata": {},
   "source": [
    "Create _all_alphas folder_ in your _data_ directory. Then, download the structure of each of the proteins described at  the file *all_alphas.txt* in the folder _data_.\n"
   ]
  },
  {
   "cell_type": "code",
   "execution_count": 5,
   "metadata": {},
   "outputs": [],
   "source": [
    "all_alphas = np.loadtxt('../data/all_alphas.txt', dtype='str').ravel()\n",
    "for x in all_alphas:  \n",
    "    urllib.request.urlretrieve(\"https://scop.berkeley.edu/astral/pdbstyle/ver=2.07&id=\"+ x + \"&output=html\", \"../data/all_alphas/\"+ x +\".pdb\")"
   ]
  },
  {
   "cell_type": "markdown",
   "metadata": {},
   "source": [
    "Repeat the previous procedure with the classes _all_betas_ and _alpha_beta_."
   ]
  },
  {
   "cell_type": "code",
   "execution_count": null,
   "metadata": {},
   "outputs": [],
   "source": [
    "#Code to download the data of proteins all_betas"
   ]
  },
  {
   "cell_type": "code",
   "execution_count": null,
   "metadata": {},
   "outputs": [],
   "source": [
    "#Code to download the data of proteins alpha_beta"
   ]
  },
  {
   "cell_type": "code",
   "execution_count": 1,
   "metadata": {},
   "outputs": [],
   "source": [
    "#The following function computes the intrinsic distance between carbon atoms in the protein.\n",
    "def get_distance_matrix(structure):\n",
    "    if len(structure.get_list())>0:\n",
    "        model = structure.get_list()[0]\n",
    "        chain = model.get_list()[0]\n",
    "        N = len(chain)\n",
    "        i = 0\n",
    "        j = 0\n",
    "        distance=np.empty([N,N])\n",
    "        for residue1 in chain:\n",
    "            for residue2 in chain:\n",
    "                # compute distance between CA atoms\n",
    "                try:\n",
    "                    distance[i%N,j%N] = residue1['CA'] - residue2['CA']\n",
    "                except KeyError:\n",
    "                    ## no CA atom, e.g. for H_NAG\n",
    "                    distance[i%N,j%N] = None\n",
    "                j = j+1\n",
    "            i = i+1\n",
    "    else: \n",
    "        return []\n",
    "    return N, distance"
   ]
  },
  {
   "cell_type": "markdown",
   "metadata": {},
   "source": [
    "We compute the persistent diagram associated to the distance between CA residues."
   ]
  },
  {
   "cell_type": "code",
   "execution_count": 9,
   "metadata": {},
   "outputs": [
    {
     "name": "stdout",
     "output_type": "stream",
     "text": [
      "Rips(maxdim=1, thresh=inf, coeff=2, do_cocycles=False, n_perm = None, verbose=True)\n",
      "Wall time: 2min 17s\n"
     ]
    }
   ],
   "source": [
    "%%time\n",
    "# create parser\n",
    "parser = PDBParser()\n",
    "\n",
    "#create Rips\n",
    "rips = Rips()\n",
    "\n",
    "all_alpha_dgms = {}\n",
    "all_beta_dgms = {}\n",
    "alpha_beta_dgms = {}\n",
    "d = {'all_alphas': all_alpha_dgms, 'all_betas': all_beta_dgms, 'alpha_beta': alpha_beta_dgms}\n",
    "class_proteins = [all_alphas, all_betas, alpha_beta]\n",
    "name_class = ['all_alphas', 'all_betas', 'alpha_beta']\n",
    "all_alpha_atoms = {}\n",
    "all_beta_atoms = {}\n",
    "alpha_beta_atoms = {}\n",
    "N_atoms = {'all_alphas': all_alpha_atoms, 'all_betas': all_beta_atoms, 'alpha_beta': alpha_beta_atoms}\n",
    "\n",
    "for i in range(len(class_proteins)):\n",
    "    for protein in class_proteins[i]:\n",
    "        try: \n",
    "            # read structure from file\n",
    "            structure = parser.get_structure(protein, '../data/' + name_class[i] + '/'+ protein + '.pdb')\n",
    "            #compute distance matrix among CA atoms\n",
    "            N, distance = get_distance_matrix(structure)\n",
    "            if len(distance)>0:\n",
    "                d[name_class[i]][protein] = rips.fit_transform(distance, distance_matrix=True)\n",
    "                N_atoms[name_class[i]][protein] = N\n",
    "        except:\n",
    "            continue\n"
   ]
  },
  {
   "cell_type": "markdown",
   "metadata": {},
   "source": [
    "### All alpha"
   ]
  },
  {
   "cell_type": "code",
   "execution_count": 2,
   "metadata": {},
   "outputs": [],
   "source": [
    "#Plot some persistence diagrams associated to proteins all_alpha"
   ]
  },
  {
   "cell_type": "markdown",
   "metadata": {},
   "source": [
    "### All beta"
   ]
  },
  {
   "cell_type": "code",
   "execution_count": 3,
   "metadata": {},
   "outputs": [],
   "source": [
    "#Plot some persistence diagrams associated to proteins all_beta"
   ]
  },
  {
   "cell_type": "markdown",
   "metadata": {},
   "source": [
    "### Alpha & beta\n"
   ]
  },
  {
   "cell_type": "code",
   "execution_count": 4,
   "metadata": {},
   "outputs": [],
   "source": [
    "#Plot some persistence diagrams associated to proteins alpha_beta"
   ]
  },
  {
   "cell_type": "markdown",
   "metadata": {},
   "source": [
    "**Question:** Can you see any salient difference between the diagrams associated to proteins of different classes?"
   ]
  },
  {
   "cell_type": "markdown",
   "metadata": {},
   "source": [
    "## 2. Machine Learning"
   ]
  },
  {
   "cell_type": "markdown",
   "metadata": {},
   "source": [
    "The strategy now is to compute a set of descriptors of the most salient features associated to each persistence diagram, to then feed a machine learning classifier. "
   ]
  },
  {
   "cell_type": "markdown",
   "metadata": {},
   "source": [
    "### Feature engineering"
   ]
  },
  {
   "cell_type": "markdown",
   "metadata": {},
   "source": [
    "#### **Description of the features**\n",
    "- The length of the second longest **Betti 0** bar.\n",
    "- The length of the third longest **Betti 0** bar.\n",
    "- The summation of lengths of all **Betti 0** bars except for those exceed the max filtration value.\n",
    "- The average length of **Betti 0** bars except for those exceed the max filtration value.\n",
    "- The onset value of the longest **Betti 1** bar.\n",
    "- The length of the longest **Betti 1** bar.\n",
    "- The smallest onset value of the **Betti 1** bar that is longer than 1.5Å.\n",
    "- The average of the middle point values of all the **Betti 1** bars that are longer than 1.5Å.\n",
    "- The number of **Betti 1** bars that locate at [4.5, 5.5]Å, divided by the number of atoms.\n",
    "- The number of **Betti 1** bars that locate at [3.5, 4.5)Å and (5.5, 6.5]Å, divided by the number of atoms.\n",
    "- The summation of lengths of all the **Betti 1** bars except for those exceed the max filtration value.\n",
    "- The average length of **Betti 1** bars except for those exceed the max filtration value.\n",
    "- The onset value of the first **Betti 2** bar that ends after a given number."
   ]
  },
  {
   "cell_type": "code",
   "execution_count": 13,
   "metadata": {},
   "outputs": [],
   "source": [
    "# The list of the codes of all the proteins\n",
    "all_proteins = list(d['all_alphas'].keys()) +  list(d['all_betas'].keys()) + list(d['alpha_beta'].keys())"
   ]
  },
  {
   "cell_type": "code",
   "execution_count": 14,
   "metadata": {},
   "outputs": [],
   "source": [
    "# The list of the labels of all the proteins (its secondary structure)\n",
    "labels = ['all alpha' for x in range(len(d['all_alphas'].keys()))] + ['all beta' for x in range(len(d['all_betas'].keys()))] + ['alpha beta' for x in range(len(d['alpha_beta'].keys()))]"
   ]
  },
  {
   "cell_type": "code",
   "execution_count": 15,
   "metadata": {},
   "outputs": [],
   "source": [
    "# We create a dataframe with this information\n",
    "data = pd.DataFrame({'Protein': all_proteins, 'Second structure': labels})"
   ]
  },
  {
   "cell_type": "code",
   "execution_count": 16,
   "metadata": {},
   "outputs": [],
   "source": [
    "# We now compute the features associated to each persistence diagram\n",
    "sec_longest_b0 = []\n",
    "thi_longest_b0 = []\n",
    "sum_b0 = []\n",
    "mean_b0 = []\n",
    "onset_longest_b1 = []\n",
    "length_longest_b1 = []\n",
    "smallest_onset_b1 = []\n",
    "average_middle_b1 = []\n",
    "sum_b1 = []\n",
    "mean_b1 = []\n",
    "b1_segment = []\n",
    "b1_out_segment = []\n",
    "\n",
    "for i in range(len(class_proteins)):\n",
    "    for protein in d[name_class[i]].keys():\n",
    "        dgm = d[name_class[i]][protein]\n",
    "        atoms = N_atoms[name_class[i]][protein]\n",
    "        if dgm[0][dgm[0][:, 1]<10000].sum()>1:\n",
    "            sec_longest_b0.append(dgm[0][dgm[0][:, 1]<10000][-2][1])\n",
    "        else:\n",
    "            sec_longest_b0.append(0)\n",
    "        if dgm[0][dgm[0][:, 1]<10000].sum()>2:\n",
    "            thi_longest_b0.append(dgm[0][dgm[0][:, 1]<10000][-3][1])\n",
    "        else:\n",
    "            thi_longest_b0.append(0)\n",
    "        if dgm[0][dgm[0][:, 1]<10000].sum()>0:\n",
    "            sum_b0.append(dgm[0][dgm[0][:, 1]<10000].sum())\n",
    "            mean_b0.append(dgm[0][dgm[0][:, 1]<10000].mean())\n",
    "        else:\n",
    "            sum_b0.append(0)\n",
    "            mean_b0.append(0)\n",
    "        if len(dgm[1])>1:\n",
    "            onset_longest_b1.append(dgm[1][-1][0])\n",
    "            length_longest_b1.append(dgm[1][-1][1]-dgm[1][-1][0])\n",
    "        else: \n",
    "            onset_longest_b1.append(0)\n",
    "            length_longest_b1.append(0)\n",
    "        if len(dgm[1])>0:\n",
    "            smallest_onset_b1.append(dgm[1][:,0].min())\n",
    "            average_middle_b1.append(((dgm[1][:, 1]-dgm[1][:, 0])/2).mean())\n",
    "            sum_b1.append((dgm[1][:, 1]-dgm[1][:, 0]).sum())\n",
    "            mean_b1.append((dgm[1][:, 1]-dgm[1][:, 0]).mean())\n",
    "            b1_segment.append((((dgm[1][:, 1]<=5.5) & (dgm[1][:, 0]>=4.5)).sum())/atoms)\n",
    "            b1_out_segment.append((((dgm[1][:, 1]<=6.5) & (dgm[1][:, 0]>5.5)).sum() + (((dgm[1][:, 1]<4.5) & (dgm[1][:, 0]>=3.5)).sum()))/atoms)\n",
    "        else:\n",
    "            smallest_onset_b1.append(0)\n",
    "            average_middle_b1.append(0)\n",
    "            sum_b1.append(0)\n",
    "            mean_b1.append(0) \n",
    "            b1_segment.append(0)\n",
    "            b1_out_segment.append(0)"
   ]
  },
  {
   "cell_type": "code",
   "execution_count": null,
   "metadata": {},
   "outputs": [],
   "source": [
    "# We now put all the features in the same dataframe.\n",
    "\n",
    "features = [sec_longest_b0, thi_longest_b0, sum_b0, mean_b0, onset_longest_b1, length_longest_b1, smallest_onset_b1, average_middle_b1, sum_b1, mean_b1, b1_segment, b1_out_segment] \n",
    "feature_names = ['sec_longest_b0', 'thi_longest_b0', 'sum_b0', 'mean_b0', 'onset_longest_b1', 'length_longest_b1', 'smallest_onset_b1', 'average_middle_b1', 'sum_b1', 'mean_b1', 'b1_segment', 'b1_out_segment'] \n",
    "\n",
    "for i in range(len(features)):\n",
    "    data[feature_names[i]] = features[i]"
   ]
  },
  {
   "cell_type": "code",
   "execution_count": null,
   "metadata": {},
   "outputs": [],
   "source": [
    "#This is the dataframe with the code of each protein, is second structure, and the list of its attributes derived from teh persistence diagram.\n",
    "data.head()"
   ]
  },
  {
   "cell_type": "markdown",
   "metadata": {},
   "source": [
    "### Machine Learning Classifier"
   ]
  },
  {
   "cell_type": "markdown",
   "metadata": {},
   "source": [
    "We train a classifier of the secondary structure of proteins from the geometric features extracted from its persistence diagrams. "
   ]
  },
  {
   "cell_type": "code",
   "execution_count": null,
   "metadata": {},
   "outputs": [],
   "source": [
    "# Choose your favorite (simple) machine learning classifier (such as Random Forest, SVM, others).\n",
    "# Split the data in train/test set witgh rate 0.8/0.2\n",
    "# Train your classifier with the train set (to predict the secondary structure)\n",
    "# Predict the secondary structure of the test set"
   ]
  },
  {
   "cell_type": "markdown",
   "metadata": {},
   "source": [
    "**Question:** What's the accuracy of your ML classifier? Between which classes is there the highest rate of misclassification? Plot the confusion matrix."
   ]
  },
  {
   "cell_type": "code",
   "execution_count": null,
   "metadata": {},
   "outputs": [],
   "source": []
  }
 ],
 "metadata": {
  "kernelspec": {
   "display_name": "Python 3",
   "language": "python",
   "name": "python3"
  },
  "language_info": {
   "codemirror_mode": {
    "name": "ipython",
    "version": 3
   },
   "file_extension": ".py",
   "mimetype": "text/x-python",
   "name": "python",
   "nbconvert_exporter": "python",
   "pygments_lexer": "ipython3",
   "version": "3.6.8"
  }
 },
 "nbformat": 4,
 "nbformat_minor": 4
}
