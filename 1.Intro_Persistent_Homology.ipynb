{
 "cells": [
  {
   "cell_type": "markdown",
   "metadata": {},
   "source": [
    "# **Introduction Persistent Homology**\n",
    "### <a href=\"https://ximenafernandez.github.io/\">  _Ximena Fernandez_ </a>\n",
    "#### Department of Mathematical Sciences, Durham University\n",
    "#### _UK Centre Topological Data Analysis_"
   ]
  },
  {
   "cell_type": "markdown",
   "metadata": {},
   "source": [
    "This notebook is meant to be a first step introduction to some available tools for computation of Persistent Homology using Python."
   ]
  },
  {
   "cell_type": "markdown",
   "metadata": {},
   "source": [
    "## Homology and Persistent Homology"
   ]
  },
  {
   "cell_type": "markdown",
   "metadata": {},
   "source": [
    "<img src='figures/homology_betti.png' width=\"400\" height=\"100\"> "
   ]
  },
  {
   "cell_type": "markdown",
   "metadata": {},
   "source": [
    " **Goal:** Infer information about the *homology* of the underlying topological space from a sample."
   ]
  },
  {
   "cell_type": "markdown",
   "metadata": {},
   "source": [
    "### _Pipeline_"
   ]
  },
  {
   "cell_type": "markdown",
   "metadata": {},
   "source": [
    "<tr><td><img src='figures/sample_circle.png' width=\"400\" height=\"400\"> <img src='figures/filtration_circle.gif' width=\"600\" height=\"600\"><img src='figures/barcode.png' width=\"450\" height=auto> <img src='figures/diagram.png' width=\"500\" height=auto> </td></tr>"
   ]
  },
  {
   "cell_type": "markdown",
   "metadata": {},
   "source": [
    "### _Software_\n",
    "\n",
    "A (probably incomplete) list of available packages for the computation of TDA signatures (see also <a href=\"https://people.clas.ufl.edu/peterbubenik/intro-to-tda/\" target=\"_blank\">TDA tools</a>&nbsp;by Peter Bubenik or <a href=\"https://www.math.colostate.edu/~adams/advising/appliedTopologySoftware/\" target=\"_blank\">TDA software</a>&nbsp;by Henry Adams).\n",
    "\n",
    "- [SciKitTDA](https://scikit-tda.org/) by Nataniel Saul and Chris Tralie\n",
    "- [Ripser](https://github.com/Ripser/ripser) by Ulrich Bauer (C++)\n",
    "- [Ripser-live](http://live.ripser.org/)  by Ulrich Bauer (browser)\n",
    "- [GUDHI](http://gudhi.gforge.inria.fr/) developed at INRIA\n",
    "- [Giotto-tda](https://giotto-ai.github.io/) developted at EPFL\n",
    "- [Cubicle](https://bitbucket.org/hubwag/cubicle/src/master/) by Hubert Wagner\n",
    "- [HomcCube](https://i-obayashi.info/software.html) By Ippei Obayashi.\n",
    "- [DIPHA](https://github.com/DIPHA/dipha) by Ulrich Bauer and Michael Kerber\n",
    "- [diamorse](https://github.com/AppliedMathematicsANU/diamorse) developed at The Australian National University.\n",
    "- [Perseus](http://people.maths.ox.ac.uk/nanda/perseus/) by Vidit Nanda\n",
    "- [Dionysus2](https://www.mrzv.org/software/dionysus2/) by Dimitry Morozov (C++, Python)\n",
    "- [CliqueTop](https://github.com/nebneuron/clique-top) by Chad Giusti (Matlab)\n",
    "- [Eirene](http://gregoryhenselman.org/eirene/index.html) by Greg Henselman (Julia)\n",
    "- [CHomP](https://github.com/shaunharker/CHomP\") by Shaun Harker (C++) \n",
    "- [Hera](https://bitbucket.org/grey_narn/hera) by Michael Kerber, Dmitriy Morozov, and Arnur Nigmetov\n",
    "- [JavaPlex](https://github.com/appliedtopology) by Andrew Tausz, Mikael Vejdemo-Johansson and Henry Adams\n",
    "- [PHAT](https://bitbucket.org/phat-code/phat) by Ulrich Bauer, Michael Kerber, Jan Reininghaus, Hubert Wagner, and Bryn Keller\n",
    "- [Teaspoon](http://elizabethmunch.com/code/teaspoon/index.html) By Liz Munch and Firas Khasawneh\n",
    "-    <a href=\"https://topology-tool-kit.github.io/\" target=\"_blank\">Topology ToolKit</a>&nbsp;(C++) by&nbsp;Julien Tierny, Guillaume Favelier, Joshua Levine, Charles Gueunet, and Micha&euml;l Michaux\n",
    "-   <a href=\"https://cran.r-project.org/web/packages/TDA/index.html\" target=\"_blank\">TDA</a>&nbsp;(R)&nbsp;by&nbsp;Brittany T. Fasy, Jisu Kim, Fabrizio Lecci, and Cl&eacute;ment Maria\n",
    "-    <a href=\"https://github.com/paultpearson/TDAmapper\" target=\"_blank\">TDAMapper </a>(R) by&nbsp;Paul Pearson, Daniel M&uuml;ellner, and Gurjeet Singh\n",
    "-    <a href=\"https://github.com/nebneuron/Simplicial\" target=\"_blank\">Simplicial complexes for Julia</a> by Alex Kunin and Vladimir Itskov\n",
    "-    <a href=\"http://web.cse.ohio-state.edu/~dey.8/SimBa/Simba.html\" target=\"_blank\">SimBa</a>&nbsp;and&nbsp;<a href=\"http://web.cse.ohio-state.edu/~dey.8/SimPers/Simpers.html\" target=\"_blank\">SimPer</a>&nbsp;(C++) by&nbsp;Tamal K Dey, &nbsp;Fengtao Fan, &nbsp;Dayu Shi, &nbsp;and Yusu Wan&nbsp;\n",
    "- <a href=\"http://danifold.net/mapper/index.html\" target=\"_blank\">Python Mapper</a>&nbsp;(Python) by&nbsp;Daniel M&uuml;llner and Aravindakshan Babu\n",
    "-    <a href=\"https://www.math.upenn.edu/~dlotko/persistenceLandscape.html\" target=\"_blank\">Persistence Landscape Toolbox</a>&nbsp;(C++) by Pawel Dlotko&#8203;"
   ]
  },
  {
   "cell_type": "markdown",
   "metadata": {},
   "source": [
    "### _Complexity_\n",
    "Given a point cloud of $n$ points, the complexity of computing Persistent Homology up to dimension $d$ is:\n",
    "\n",
    "$$O(n^{3(d+1)})$$\n"
   ]
  },
  {
   "cell_type": "markdown",
   "metadata": {},
   "source": [
    "*******************************************************************************************************************************"
   ]
  },
  {
   "cell_type": "markdown",
   "metadata": {
    "tags": []
   },
   "source": [
    "## 1.First steps"
   ]
  },
  {
   "cell_type": "markdown",
   "metadata": {},
   "source": [
    "### Point clouds"
   ]
  },
  {
   "cell_type": "code",
   "execution_count": null,
   "metadata": {},
   "outputs": [],
   "source": [
    "#!pip install tadasets\n",
    "import tadasets\n",
    "circle = tadasets.dsphere(d = 1, n=100)"
   ]
  },
  {
   "cell_type": "code",
   "execution_count": null,
   "metadata": {},
   "outputs": [],
   "source": [
    "import seaborn as sns\n",
    "import matplotlib.pyplot as plt"
   ]
  },
  {
   "cell_type": "code",
   "execution_count": null,
   "metadata": {},
   "outputs": [],
   "source": [
    "sns.set()\n",
    "plt.figure(figsize = (7,7))\n",
    "plt.scatter(circle[:,0], circle[:,1],  s = 30, alpha = 0.5)\n",
    "plt.axis('equal')\n",
    "plt.show()"
   ]
  },
  {
   "cell_type": "markdown",
   "metadata": {
    "tags": []
   },
   "source": [
    "### Computation of persistent homology"
   ]
  },
  {
   "cell_type": "code",
   "execution_count": null,
   "metadata": {},
   "outputs": [],
   "source": [
    "#!pip install ripser\n",
    "from ripser import Rips"
   ]
  },
  {
   "cell_type": "code",
   "execution_count": null,
   "metadata": {},
   "outputs": [],
   "source": [
    "rips = Rips()\n",
    "dgms = rips.fit_transform(circle)\n",
    "\n",
    "sns.set()\n",
    "plt.figure(figsize = (5,5))\n",
    "rips.plot(dgms)"
   ]
  },
  {
   "cell_type": "markdown",
   "metadata": {},
   "source": [
    "**Question:** What are the birth and the deadh of the generator in homology related to in this example?"
   ]
  },
  {
   "cell_type": "markdown",
   "metadata": {},
   "source": [
    "### Examples"
   ]
  },
  {
   "cell_type": "markdown",
   "metadata": {},
   "source": [
    "- #### Torus"
   ]
  },
  {
   "cell_type": "code",
   "execution_count": null,
   "metadata": {},
   "outputs": [],
   "source": [
    "sns.set()\n",
    "torus = tadasets.torus(n=500)\n",
    "tadasets.plot3d(torus, s = 5, alpha = 0.7)\n",
    "plt.show()\n",
    "rips = Rips(maxdim = 2)\n",
    "dgms = rips.fit_transform(torus)\n",
    "rips.plot(dgms)"
   ]
  },
  {
   "cell_type": "markdown",
   "metadata": {},
   "source": [
    "**Exercise:** Change the size of the sample and see what happens with the persistence diagram."
   ]
  },
  {
   "cell_type": "markdown",
   "metadata": {},
   "source": [
    "- #### Sphere"
   ]
  },
  {
   "cell_type": "code",
   "execution_count": null,
   "metadata": {},
   "outputs": [],
   "source": [
    "sns.set()\n",
    "sphere = tadasets.dsphere(n=300)\n",
    "tadasets.plot3d(sphere, s = 5, alpha = 0.7)\n",
    "plt.show()\n",
    "rips = Rips(maxdim = 2)\n",
    "dgms = rips.fit_transform(sphere)\n",
    "rips.plot(dgms)"
   ]
  },
  {
   "cell_type": "markdown",
   "metadata": {},
   "source": [
    "**Exercise:** Change the size of the sample and see what happens with the persistence diagram."
   ]
  },
  {
   "cell_type": "markdown",
   "metadata": {},
   "source": [
    "*******************************************************************************************************************************"
   ]
  },
  {
   "cell_type": "markdown",
   "metadata": {
    "tags": []
   },
   "source": [
    "## 2. Noisy data and stability"
   ]
  },
  {
   "cell_type": "markdown",
   "metadata": {},
   "source": [
    "We generate two datasets: a *circle* and a *noisy circle*. We will compare the behaviour of persistent homology in presence of **noise**."
   ]
  },
  {
   "cell_type": "code",
   "execution_count": null,
   "metadata": {},
   "outputs": [],
   "source": [
    "data_clean = tadasets.dsphere(d=1, n=100, noise=0.0)\n",
    "data_noisy = tadasets.dsphere(d=1, n=100, noise=0.1)\n",
    "\n",
    "sns.set()\n",
    "plt.scatter(data_clean[:,0], data_clean[:,1], label=\"clean data\", s = 8)\n",
    "plt.scatter(data_noisy[:,0], data_noisy[:,1], label=\"noisy data\", s = 8)\n",
    "plt.axis('equal')\n",
    "plt.legend()\n",
    "plt.show()"
   ]
  },
  {
   "cell_type": "markdown",
   "metadata": {},
   "source": [
    "We compare its persistence diagrams at degree 1."
   ]
  },
  {
   "cell_type": "code",
   "execution_count": null,
   "metadata": {},
   "outputs": [],
   "source": [
    "rips = Rips()\n",
    "dgm_noisy = rips.fit_transform(data_noisy)[1]\n",
    "dgm_clean = rips.fit_transform(data_clean)[1]\n",
    "rips.plot(dgm_clean, labels = 'Clean $H_1$')\n",
    "rips.plot(dgm_noisy, labels = 'Noisy $H_1$')"
   ]
  },
  {
   "cell_type": "markdown",
   "metadata": {},
   "source": [
    "**Exercise:** Change the amount of noise and see what happens with the persistence diagram."
   ]
  },
  {
   "cell_type": "markdown",
   "metadata": {},
   "source": [
    "- ### Bottleneck distance"
   ]
  },
  {
   "cell_type": "markdown",
   "metadata": {},
   "source": [
    "Given two persistence diagrams $\\mathrm{dgm_1}$ y $\\mathrm{dgm_2}$, its **bottleneck distance** is defined as:\n",
    "\n",
    "$$d_b(\\mathrm{dgm_1},\\mathrm{dgm_2}) = \\inf_{M \\text{ matching }} \\sup_{(x,y)\\in M} ||x-y||_{\\infty}$$\n",
    "\n",
    "where $M\\subseteq \\mathrm{dgm_1}\\times \\mathrm{dgm_2}$ is a matching, and we consider the points in the diagonal as part of both diagrams."
   ]
  },
  {
   "cell_type": "code",
   "execution_count": null,
   "metadata": {},
   "outputs": [],
   "source": [
    "#!pip install persim\n",
    "import persim\n",
    "distance_bottleneck, matching = persim.bottleneck(dgm_clean, dgm_noisy, matching=True)\n",
    "persim.bottleneck(dgm_clean, dgm_noisy)"
   ]
  },
  {
   "cell_type": "code",
   "execution_count": null,
   "metadata": {},
   "outputs": [],
   "source": [
    "sns.set()\n",
    "persim.bottleneck_matching(dgm_clean, dgm_noisy, matching,  labels=['Clean $H_1$', 'Noisy $H_1$'])"
   ]
  },
  {
   "cell_type": "markdown",
   "metadata": {},
   "source": [
    "Let's inspect the evolution of the bottleneck distance between the diagrams of the data with and without noise, for different levels of noise."
   ]
  },
  {
   "cell_type": "code",
   "execution_count": null,
   "metadata": {},
   "outputs": [],
   "source": [
    "fig = plt.figure(figsize = (10,10))\n",
    "\n",
    "for i, n in enumerate([0.01, 0.05, 0.1, 0.15, 0.2, 0.3, 0.4, 0.6, 0.8]):\n",
    "    sns.set()\n",
    "    plt.subplot(331+i)\n",
    "\n",
    "    data_clean = tadasets.dsphere(d=1, n=100, noise=0.0)\n",
    "    dgm_clean = rips.fit_transform(data_clean)[1]\n",
    "    \n",
    "    data_noisy = tadasets.dsphere(d=1, n=100, noise=n)\n",
    "    dgm_noisy = rips.fit_transform(data_noisy)[1]\n",
    "    \n",
    "    d, matching = persim.bottleneck(\n",
    "        dgm_clean,\n",
    "        dgm_noisy,\n",
    "        matching=True\n",
    "    )\n",
    "    persim.bottleneck_matching(dgm_clean, dgm_noisy, matching, labels=['Clean $H_1$', 'Noisy $H_1$'])\n",
    "    \n",
    "    plt.title(\"Noise:{} Distance:{:.3f}\".format(n, d))\n",
    "\n",
    "plt.tight_layout()"
   ]
  },
  {
   "cell_type": "markdown",
   "metadata": {
    "tags": []
   },
   "source": [
    "- ### Stability"
   ]
  },
  {
   "cell_type": "code",
   "execution_count": null,
   "metadata": {},
   "outputs": [],
   "source": [
    "fig = plt.figure(figsize = (10,5))\n",
    "rips = Rips(maxdim = 2)\n",
    "\n",
    "for i in range(3):\n",
    "    sns.set()\n",
    "    ax = fig.add_subplot(231+i, projection='3d')\n",
    "    sphere = tadasets.dsphere(n=350, noise = 0.1) #spheres with noise\n",
    "    ax.scatter(sphere[:,0], sphere[:,1], sphere[:,2], s = 3, alpha = 0.5)\n",
    "    ax = fig.add_subplot(234+i)\n",
    "    dgm = rips.fit_transform(sphere)\n",
    "    rips.plot(dgm)"
   ]
  },
  {
   "cell_type": "markdown",
   "metadata": {},
   "source": [
    "Recall that the **Gromov-Hausdorff distance** between two compact metric psaces $(X, d_X)$ e $(Y, d_Y)$ is defined as:\n",
    "\n",
    "$$d_{GH}(X,Y) = \\frac{1}{2}\\inf_{R\\subseteq X\\times Y}\\sup_{(x,y), (x', y')\\in R}|d_X(x,x')-d_Y(y,y')|$$\n",
    "\n",
    "where $R$ is a _correspondence_ (ie, $\\forall x\\in X, \\exists y\\in Y$ such that $(x,y)\\in R$ and analogously for $Y$)\n",
    " \n",
    "Equivalently, \n",
    "\n",
    "$$d_{GH}(X,Y) = \\inf_{(Z, d_Z)}\\{d_H\\left(\\phi_X(X),\\phi_Y(Y)\\right):\\phi_X:X\\to Z,\\phi_Y:Y\\to Z \\text{ isometries}\\}$$\n",
    "\n",
    "where $d_H$ denotes the Hausdorff distance.\n"
   ]
  },
  {
   "cell_type": "markdown",
   "metadata": {},
   "source": [
    "- Cohen-Steiner, D., Edelsbrunner, H. & Harer, J. **Stability of Persistence Diagrams.** Discrete Comput Geom 37, 103–120 (2007)."
   ]
  },
  {
   "cell_type": "markdown",
   "metadata": {},
   "source": [
    "**Theorem (Cohen-Steiner, Edelsbrunner, Harer, 2007).** For any two precompact metric spaces $(X, d_X)$ and $(Y, d_Y)$,\n",
    "$$\n",
    "d_b\\Big(\\mathrm{dgm}\\big(\\mathrm{Filt}(X, d_{X})\\big),\\mathrm{dgm}\\big(\\mathrm{Filt}(Y, d_{Y})\\big)\\Big)\\leq 2 d_{GH}\\big((X,d_{X}),(Y,d_{Y})\\big).\n",
    "$$"
   ]
  },
  {
   "cell_type": "markdown",
   "metadata": {},
   "source": [
    "- Fasy, B.T., Lecci, F., Rinaldo, A., Wasserman, L., Balakrishnan, S., & Singh, A. (2014). **Confidence sets for persistence diagrams.** Annals of Statistics, 42, 2301-2339."
   ]
  },
  {
   "cell_type": "markdown",
   "metadata": {},
   "source": [
    "**Theorem (Fasy et.al 2014)**: Given $\\alpha>0$, there exixts $c_n = c(X_n)$ such that \n",
    "\n",
    "$$\\liminf_{n\\to\\infty} P\\big(d_b\\mathrm{(dgm(Filt}(X_n), \\mathrm{dgm(Filt}(X))\\in [0, c_n]\\big)\\geq 1-\\alpha$$\n",
    "\n",
    "That is, $[0,c_n]$ is a confidence interval for $d_b\\mathrm{(dgm(Filt}(X_n), \\mathrm{dgm(Filt}(X))$."
   ]
  },
  {
   "cell_type": "markdown",
   "metadata": {},
   "source": [
    "*******************************************************************************************************************************\n",
    "## 3. Convergence"
   ]
  },
  {
   "cell_type": "code",
   "execution_count": null,
   "metadata": {},
   "outputs": [],
   "source": [
    "rips = Rips(maxdim = 2)\n",
    "fig = plt.figure(figsize = (20,10))\n",
    "\n",
    "size = [50, 100, 200, 500]\n",
    "for i,n in enumerate(size):\n",
    "    sns.set()\n",
    "    sphere = tadasets.sphere(n, r = 10)\n",
    "    ax = fig.add_subplot(241+i, projection='3d')\n",
    "    ax.scatter(sphere[:,0], sphere[:,1], sphere[:,2], s = 12, alpha = 0.5)\n",
    "    ax = fig.add_subplot(245+i)\n",
    "    dgm = rips.fit_transform(sphere)\n",
    "    rips.plot(dgm)\n",
    "plt.tight_layout()"
   ]
  },
  {
   "cell_type": "markdown",
   "metadata": {},
   "source": [
    "**Theorem (Chazal et.al. 2015):**"
   ]
  },
  {
   "cell_type": "markdown",
   "metadata": {},
   "source": [
    "Let $(M, \\rho)$ be a metric space. Let $X_n$ be an i.i.d. sample of $M$ with respect to a(n unknown) probability measure $\\mu$. Let $X_{\\mu}\\subseteq M$ be the support of $\\mu$. If $\\mu$ satisfies that:\n",
    "- $X_{\\mu}$ is compact;\n",
    "- there exists $a,b>0$ such that  $r>0$, $x\\in X_{\\mu}$, $\\mu(B(x,r))>\\min(ar^b, 1).$\n",
    "\n",
    "Then,\n",
    "\n",
    "$$E[d_b(\\mathrm{dgm(Filt}(X_{\\mu})), \\mathrm{dgm(Filt}(X_n))]\\leq C\\left(\\dfrac{\\ln(n)}{n}\\right)^{1/b}$$\n",
    "\n",
    "where $C$ only depends on $a$ and $b$.\n"
   ]
  }
 ],
 "metadata": {
  "kernelspec": {
   "display_name": "Python 3",
   "language": "python",
   "name": "python3"
  },
  "language_info": {
   "codemirror_mode": {
    "name": "ipython",
    "version": 3
   },
   "file_extension": ".py",
   "mimetype": "text/x-python",
   "name": "python",
   "nbconvert_exporter": "python",
   "pygments_lexer": "ipython3",
   "version": "3.6.8"
  }
 },
 "nbformat": 4,
 "nbformat_minor": 4
}
