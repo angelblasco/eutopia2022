{
 "cells": [
  {
   "cell_type": "markdown",
   "metadata": {},
   "source": [
    "# Hands on: Persistent Homology\n",
    "\n",
    "In this notebook, you will find some exercises to familiarize yourself with the basics of persistence diagrams and the Ripser library.  \n",
    "(See more at https://github.com/ctralie/TDALabs)"
   ]
  },
  {
   "cell_type": "code",
   "execution_count": null,
   "metadata": {},
   "outputs": [],
   "source": [
    "# Perform all of the necessary library imports.  \n",
    "import numpy as np\n",
    "import matplotlib.pyplot as plt\n",
    "from ripser import Rips\n",
    "import time\n",
    "from fermat import Fermat\n",
    "from scipy.spatial import distance_matrix"
   ]
  },
  {
   "cell_type": "markdown",
   "metadata": {},
   "source": [
    "## **Example 1:** Circles\n",
    "\n",
    "As a first example, we will make a circle.  Once you understand this example, starting from the code below, see if you can modify the point cloud in order to:\n",
    "\n",
    "#### **Exercises/Questions**\n",
    "* Increase the birth time of the $H_1$ generator without changing the radius of the circle\n",
    "* Decrease the birth time of the $H_1$ generator without changing the radius of the circle\n",
    "* What happens to $H_1$ when you add a point that is at the center of the circle at position $(0, 0)$?\n",
    "* Change the point cloud so that there are two $H_1$ generators with large (>1) but different persistences."
   ]
  },
  {
   "cell_type": "code",
   "execution_count": null,
   "metadata": {},
   "outputs": [],
   "source": [
    "# Create 100 points on the unit circle\n",
    "N = 100\n",
    "t = np.linspace(0, 2*np.pi, N+1)[0:N]\n",
    "X = np.zeros((N, 2))\n",
    "X[:, 0] = np.cos(t)\n",
    "X[:, 1] = np.sin(t)\n",
    "\n",
    "\n",
    "# Compute the persistence diagram of this point cloud\n",
    "rips = Rips()\n",
    "dgms = rips.fit_transform(X)\n",
    "\n",
    "# Plot the figures\n",
    "plt.figure(figsize=(8, 4))\n",
    "\n",
    "plt.subplot(121)\n",
    "plt.scatter(X[:, 0], X[:, 1], alpha = 0.5)\n",
    "plt.axis('equal')\n",
    "plt.title(\"Point Cloud\")\n",
    "\n",
    "plt.subplot(122)\n",
    "rips.plot(dgms)\n",
    "plt.title(\"Persistence Diagram\")\n",
    "\n",
    "plt.show()"
   ]
  },
  {
   "cell_type": "markdown",
   "metadata": {},
   "source": [
    "## **Example 2:** Sphere\n",
    "We will now randomly sample some points on the two dimensional sphere and compute persistent homology up to dimension 2, using the <i>geodesic distance</i>, which is the arc length between points.  A point $X = (x, y, z)$ is randomly drawn from a 3D gaussian distribution \n",
    "\n",
    "$$(x, y, z) \\sim \\left(\\frac{1}{2 \\pi}\\right)^{3/2} \\exp{\\left( - (x^2+y^2+z^2)/2 \\right) }$$\n",
    "\n",
    "and normalized to have a length of 1 \n",
    "\n",
    "(<i>Why does this evenly sample on the sphere?</i> See Marsaglia, G. _\"Choosing a Point from the Surface of a Sphere.\"_ Ann. Math. Stat. 43, 645-646, 1972.\n",
    "or Muller, M. E. _\"A Note on a Method for Generating Points Uniformly on N-Dimensional Spheres.\"_ Comm. Assoc. Comput. Mach. 2, 19-20, Apr. 1959).\n",
    "\n",
    "Note that the arc length along a unit circle is equal to the angle subtending that circle in radians. Thus, given two unit vectors on the sphere $x_1$ and $x_2$, the arc length between them is $\\cos^{-1}(x_1 \\cdot x_2)$.  We will implement this in code below to compute all pairwwise arc lengths between our sampled points on the sphere.  We will then compute a Rips filtration up to dimension 2.\n"
   ]
  },
  {
   "cell_type": "code",
   "execution_count": null,
   "metadata": {},
   "outputs": [],
   "source": [
    "# Step 1: Setup the point cloud\n",
    "N = 200 #Number of points\n",
    "X = np.random.randn(N, 3) #Draw from 3D Gaussian\n",
    "X = X/np.sqrt(np.sum(X**2, 1))[:, None] #Normalize each point to unit length\n",
    "\n",
    "# Step 2: Compute all pairwise arc lengths between sampled points\n",
    "dotProds = X.dot(X.T) #Entry ij in this matrix holds the dot product between point i and j, or cos(theta)\n",
    "#The dot products should be in [-1, 1], but may leave this range due to numerical roundoff\n",
    "dotProds[dotProds < -1] = -1\n",
    "dotProds[dotProds > 1] = 1\n",
    "DSphere = np.arccos(dotProds) #The arc length is the inverse cosine of the dot products of unit vectors\n",
    "np.fill_diagonal(DSphere, 0) #Be sure distance of points to themselves is zero\n",
    "\n",
    "# Step 3: Compute the persistence diagram of this metric space, described by its distance matrix\n",
    "rips = Rips(maxdim=2)\n",
    "dgms = rips.fit_transform(DSphere, distance_matrix=True)\n",
    "\n",
    "# Step 4: Plot the figures\n",
    "fig = plt.figure(figsize=(10, 4))\n",
    "ax = plt.subplot(121, projection='3d')\n",
    "ax.scatter(X[:, 0], X[:, 1], X[:, 2], alpha = 0.5)\n",
    "plt.title(\"Sphere Sample\")\n",
    "plt.subplot(122)\n",
    "rips.plot(dgms)\n",
    "plt.title(\"Persistence Diagram\");"
   ]
  },
  {
   "cell_type": "markdown",
   "metadata": {},
   "source": [
    "\n",
    "#### **Questions**\n",
    "* How many generators with long lifetime are in $H_1$ and $H_2$?  Does this match the homology of a sphere?\n",
    "* Compare the persistence diagram of the sphere endowed with either the Euclidean distance and the geodesic distance. Is there any change?"
   ]
  },
  {
   "cell_type": "markdown",
   "metadata": {},
   "source": [
    "## **Example 3:** 3D Embedded Torus\n",
    "\n",
    "We will now sample points from a torus embedded in 3D and compute persistent homology up to $H_2$.  Given a parameter $R$ which is the radius of a circle through the center of the tube and a parameter $r$ which is the width of the tube, we use the following equation for the 3D coordinates of a point $(\\theta, \\phi)$, where $\\theta$ is along the $r$ radius circle and $\\phi$ is along the $R$ radius circle:\n",
    "\n",
    "$x = (R + r \\cos(\\theta)) \\cos (\\phi)$\n",
    "\n",
    "$y = (R + r \\cos(\\theta)) \\sin (\\phi)$\n",
    "\n",
    "$z = r \\sin (\\theta)$\n",
    "\n",
    "#### **Questions**\n",
    "\n",
    "* What happens to the persistence diagram as you vary $R$ and $r$?\n",
    "* What happens to the persistence diagram as you vary $n\\_sample$?"
   ]
  },
  {
   "cell_type": "code",
   "execution_count": null,
   "metadata": {},
   "outputs": [],
   "source": [
    "N = 10000 #Number of initial points in (theta, phi) space\n",
    "n_sample = 400 #Number of points to evenly subsample in 3D\n",
    "\n",
    "R = 4\n",
    "r = 2\n",
    "theta = np.random.rand(N)*2*np.pi\n",
    "phi = np.random.rand(N)*2*np.pi\n",
    "\n",
    "X = np.zeros((N, 3))\n",
    "X[:, 0] = (R + r*np.cos(theta))*np.cos(phi)\n",
    "X[:, 1] = (R + r*np.cos(theta))*np.sin(phi)\n",
    "X[:, 2] = r*np.sin(theta)\n",
    "xr = [np.min(X.flatten()), np.max(X.flatten())]\n",
    "\n",
    "sample = np.random.choice(N, size=n_sample, replace=False)\n",
    "X_sample = X[sample]\n",
    "\n",
    "#Now compute persistence diagrams up to H2 on the subsample\n",
    "\n",
    "\n",
    "#Plot the figures\n"
   ]
  },
  {
   "cell_type": "markdown",
   "metadata": {},
   "source": [
    "## **Example 4:**  4D Embedded Klein Bottle\n",
    "\n",
    "Though we can't embed the Klein bottle in 3 dimensions, we can in 4 dimensions with the following equations, which are similar to the 3D torus case but with a twist\n",
    "\n",
    "$x = (R + r \\cos(\\theta)) \\cos (\\phi)$\n",
    "\n",
    "$y = (R + r \\cos(\\theta)) \\sin (\\phi)$\n",
    "\n",
    "$z = r \\sin (\\theta) \\cos(\\phi /2)$\n",
    "\n",
    "$w = r \\sin (\\theta) \\sin(\\phi / 2)$\n",
    "\n",
    "Let's now run this below, computing it with both $\\mathbb{Z} / 2 \\mathbb{Z}$ and $\\mathbb{Z} / 3 \\mathbb{Z}$ coefficients\n",
    "\n",
    "#### **Questions**\n",
    "* What is the difference with the different coefficients?  Does the diagram look familiar to something we have already seen with $\\mathbb{Z} / 2 \\mathbb{Z}$ coefficients?"
   ]
  },
  {
   "cell_type": "code",
   "execution_count": null,
   "metadata": {},
   "outputs": [],
   "source": [
    "N = 10000 #Number of initial points in (theta, phi) space\n",
    "n_sample = 600 #Number of points to evenly subsample\n",
    "R = 4\n",
    "r = 2\n",
    "theta = np.random.rand(N)*2*np.pi\n",
    "phi = np.random.rand(N)*2*np.pi\n",
    "X = np.zeros((N, 4))\n",
    "X[:, 0] = (R + r*np.cos(theta))*np.cos(phi)\n",
    "X[:, 1] = (R + r*np.cos(theta))*np.sin(phi)\n",
    "X[:, 2] = r*np.sin(theta)*np.cos(phi/2)\n",
    "X[:, 3] = r*np.sin(theta)*np.sin(phi/2)\n",
    "\n",
    "#Now compute persistence diagrams up to H2 with coefficients in Z2 and Z3 of a subsample of the point cloud\n",
    "# Hint: Rips(coeff=2)  computes homology with coefficients in Z2\n",
    "\n",
    "\n",
    "#Plot the diagrams and compare\n"
   ]
  },
  {
   "cell_type": "markdown",
   "metadata": {},
   "source": [
    "## **Example 5:** A Twisty Curve\n",
    "\n",
    "For our final example in this notebook, let's take a closed loop that lives on the 3D torus from example 3 which travels twice around the $R$ radius circle for every once it travels around the $r$ radius circle.  We will compute persistent $H_1$ with different metrics on the point cloud.\n",
    "\n",
    "#### **Questions**\n",
    "* What is the relationship between the $H_1$ diagram with geodesic and Euclidean distance? Can you explain the birth and death times of the generators?\n"
   ]
  },
  {
   "cell_type": "code",
   "execution_count": null,
   "metadata": {},
   "outputs": [],
   "source": [
    "NPoints = 400\n",
    "R = 4\n",
    "r = 2\n",
    "theta = np.linspace(0, 2*np.pi, NPoints+1)[0:NPoints]\n",
    "phi = theta*2\n",
    "X = np.zeros((NPoints, 3))\n",
    "X[:, 0] = (R + r*np.cos(theta))*np.cos(phi)\n",
    "X[:, 1] = (R + r*np.cos(theta))*np.sin(phi)\n",
    "X[:, 2] = r*np.sin(theta)\n",
    "xr = [np.min(X.flatten()), np.max(X.flatten())]\n",
    "\n",
    "#Compute the persistence diagram with the Euclidean distance\n",
    "\n",
    "\n",
    "#Now, use the following estimator of the geodesic distance to compute the persistence diagram from a distance matrix. \n",
    "#The parameter k sets the local neigborhood used in the estimation. A small value of k (such as k=10) should work.\n",
    "\n",
    "def compute_knn_distance(data, k):\n",
    "    '''\n",
    "    Computes the  estimator of geodesic distance of the algorithm ISOMAP.\n",
    "    '''\n",
    "    distances = distance_matrix(data,data)\n",
    "    f_aprox_D = Fermat(1, path_method='D', k=k) \n",
    "    f_aprox_D.fit(distances)\n",
    "    adj_dist = f_aprox_D.get_distances() \n",
    "    return adj_dist\n",
    "\n",
    "d_matrix = compute_knn_distance(X, 10)\n",
    "\n",
    "\n",
    "#Plot the curve and the persistent diagrams and compare\n",
    "\n"
   ]
  }
 ],
 "metadata": {
  "kernelspec": {
   "display_name": "Python 3",
   "language": "python",
   "name": "python3"
  },
  "language_info": {
   "codemirror_mode": {
    "name": "ipython",
    "version": 3
   },
   "file_extension": ".py",
   "mimetype": "text/x-python",
   "name": "python",
   "nbconvert_exporter": "python",
   "pygments_lexer": "ipython3",
   "version": "3.6.8"
  }
 },
 "nbformat": 4,
 "nbformat_minor": 4
}
