{
 "cells": [
  {
   "cell_type": "markdown",
   "metadata": {},
   "source": [
    "# **Beyond Persistent Homology**\n",
    "### <a href=\"https://ximenafernandez.github.io/\">  _Ximena Fernandez_ </a>\n",
    "#### Department of Mathematical Sciences, Durham University\n",
    "#### _UK Centre Topological Data Analysis_"
   ]
  },
  {
   "cell_type": "markdown",
   "metadata": {},
   "source": [
    "This notebook is meant to show some further topological invariants that can be captured from a point cloud, beyond Homology."
   ]
  },
  {
   "cell_type": "code",
   "execution_count": null,
   "metadata": {},
   "outputs": [],
   "source": [
    "import seaborn as sns\n",
    "import matplotlib.pyplot as plt"
   ]
  },
  {
   "cell_type": "code",
   "execution_count": null,
   "metadata": {},
   "outputs": [],
   "source": [
    "#!pip install tadasets\n",
    "import tadasets\n",
    "#!pip install ripser\n",
    "from ripser import Rips\n",
    "#!pip install persim\n",
    "import persim"
   ]
  },
  {
   "cell_type": "markdown",
   "metadata": {},
   "source": [
    "*******************************************************************************************************************************\n",
    "## 4. Orientability"
   ]
  },
  {
   "cell_type": "markdown",
   "metadata": {},
   "source": [
    "**Orientability** of _manifolds_ characterizes the property of _synchronizing_ oriented local coverings into a global description. In particular, it is an **homeomorphism invariant** that captures geometric properties of **different nature than homology**.\n",
    "\n",
    "For instance, the **cylinder** and the **Mobius band** have both the same homology, but the former is orientable while the latter is non-orientable. \n",
    "\n",
    "- **Property:** For _closed manifolds_ (compact manifolds without boundary), _homology with coefficients in different finite fields_ can be used to characterize orientability. A closed $d$-manifold $M$ is orientable if (and only if) $H_d(M, \\mathbb{Z}_3)$  is non-null. "
   ]
  },
  {
   "cell_type": "code",
   "execution_count": null,
   "metadata": {},
   "outputs": [],
   "source": [
    "sns.set()\n",
    "torus = tadasets.torus(n=500)\n",
    "tadasets.plot3d(torus, s = 5, alpha = 0.5)\n",
    "plt.title('Torus' , fontsize=15)\n",
    "plt.show()\n",
    "\n",
    "fig = plt.figure(figsize = (10,10))\n",
    "\n",
    "sns.set()\n",
    "plt.subplot(121)\n",
    "rips = Rips(maxdim = 2, coeff = 2)\n",
    "dgms = rips.fit_transform(torus)\n",
    "rips.plot(dgms, title = 'Coefficients in Z2')\n",
    "\n",
    "sns.set()\n",
    "plt.subplot(122)\n",
    "rips = Rips(maxdim = 2, coeff = 3)\n",
    "dgms = rips.fit_transform(torus)\n",
    "rips.plot(dgms, title = 'Coefficients in Z3')"
   ]
  },
  {
   "cell_type": "code",
   "execution_count": null,
   "metadata": {},
   "outputs": [],
   "source": [
    "import numpy as np \n",
    "\n",
    "def klein(theta, phi, r, a):\n",
    "    x = (r*np.cos(theta) + a) * np.cos(phi)\n",
    "    y = (r*np.cos(theta) + a) * np.sin(phi)\n",
    "    z = r*np.sin(theta) * np.cos(phi/2)\n",
    "    w = r*np.sin(theta) * np.sin(phi/2)\n",
    "    return np.column_stack((np.concatenate(x),np.concatenate(y),np.concatenate(z),np.concatenate(w)))\n",
    "\n",
    "n, m = 20,25\n",
    "theta, phi = np.meshgrid(np.linspace(0, 2.*np.pi, n), np.linspace(0, 2.*np.pi, m))\n",
    "klein = klein(theta, phi, 2, 1)"
   ]
  },
  {
   "cell_type": "code",
   "execution_count": null,
   "metadata": {},
   "outputs": [],
   "source": [
    "sns.set()\n",
    "fig = plt.figure(figsize = (5,5))\n",
    "ax = fig.add_subplot(projection='3d')\n",
    "\n",
    "ax.scatter(klein[:,0],klein[:,1],klein[:,2], s=5)\n",
    "ax.set_xlabel('x', fontsize=10)\n",
    "ax.set_ylabel('y', fontsize=10)\n",
    "ax.set_zlabel('z', fontsize=10)\n",
    "plt.tick_params(labelsize=10)\n",
    "ax.set_title('Klein projection', fontsize=15);"
   ]
  },
  {
   "cell_type": "code",
   "execution_count": null,
   "metadata": {},
   "outputs": [],
   "source": [
    "fig = plt.figure(figsize = (10,10))\n",
    "\n",
    "sns.set()\n",
    "plt.subplot(121)\n",
    "rips = Rips(maxdim = 2, coeff = 2)\n",
    "dgms = rips.fit_transform(klein)\n",
    "rips.plot(dgms, title = 'Coefficients in Z2')\n",
    "\n",
    "sns.set()\n",
    "plt.subplot(122)\n",
    "rips = Rips(maxdim = 2, coeff = 3)\n",
    "dgms = rips.fit_transform(klein)\n",
    "rips.plot(dgms, title = 'Coefficients in Z3')"
   ]
  },
  {
   "cell_type": "markdown",
   "metadata": {
    "tags": []
   },
   "source": [
    "*******************************************************************************************************************************\n",
    "## 5. Singularities and boundary"
   ]
  },
  {
   "cell_type": "markdown",
   "metadata": {},
   "source": [
    "- Stolz, B. J., Tanner, J., Harrington, H. A., & Nanda, V.  _Geometric anomaly detection in data._ **PNAS**, 117(33), 19664–19669 (2020)."
   ]
  },
  {
   "cell_type": "markdown",
   "metadata": {},
   "source": [
    "<img src='figures/pnas_anomalies.jpg' width=\"650\"> "
   ]
  },
  {
   "cell_type": "markdown",
   "metadata": {},
   "source": [
    "### Local homology\n",
    "\n",
    "Methods based on _local homology_ can successfully detect **singular** or **boundary** regions, in which the local neighborhood is not homeomorphic to a disk. \n",
    "\n",
    "The _key construction_ is the set of **local homology groups** $$H_*(X, X \\smallsetminus \\{x\\})$$ for all $x$ in the topological space $X$,  which in fact only depends on the local topology of $X$ around $x$ and are isomorphic to $$H_*(B(x,r)\\cap X, B(x,r)\\cap X  \\smallsetminus \\{x\\})$$ for an open neighborhood $U$ of $x$."
   ]
  },
  {
   "cell_type": "code",
   "execution_count": null,
   "metadata": {},
   "outputs": [],
   "source": [
    "def plane(l,n):\n",
    "    return np.column_stack((np.random.sample(n)*2*l-l,np.random.sample(n)*2*l-l , np.zeros(n)))"
   ]
  },
  {
   "cell_type": "code",
   "execution_count": null,
   "metadata": {},
   "outputs": [],
   "source": [
    "plane_pc = plane(2, 2000)\n",
    "sphere_pc = tadasets.dsphere(n=2000)\n",
    "point_cloud = np.concatenate((plane_pc, sphere_pc), axis = 0)"
   ]
  },
  {
   "cell_type": "code",
   "execution_count": null,
   "metadata": {},
   "outputs": [],
   "source": [
    "sns.set()\n",
    "fig = plt.figure(figsize = (10,7))\n",
    "ax = fig.add_subplot(projection='3d')\n",
    "ax.scatter(point_cloud[:,0], point_cloud[:,1], point_cloud[:,2], s=5, alpha = 0.5);"
   ]
  },
  {
   "cell_type": "code",
   "execution_count": null,
   "metadata": {},
   "outputs": [],
   "source": [
    "from scipy.spatial import distance_matrix\n",
    "\n",
    "def local_neighborhood(data, scale):\n",
    "    D = distance_matrix(data, data)\n",
    "    n = scale[1]-scale[0]\n",
    "    local_neigh = np.ndarray(shape=(len(D),n), dtype=int, order='F')\n",
    "    radius = np.ndarray(shape=(len(D),2), dtype=float, order='F')\n",
    "    for i in range(len(D)):\n",
    "        local_neigh[i] = np.argsort(D[i])[scale[0]:scale[1]]\n",
    "    D.sort()\n",
    "    for i in range(len(D)):\n",
    "        radius[i] = [D[i][scale[0]], D[i][scale[1]]]\n",
    "    return local_neigh, radius\n",
    "\n",
    "    \n",
    "def compute_local_persistence(data, scale):\n",
    "    k1 = scale[0]\n",
    "    k2 = scale[1]\n",
    "    \n",
    "    local_neigh, radius = local_neighborhood(data, [k1, k2])\n",
    "    \n",
    "    rips = Rips()\n",
    "    mask = []\n",
    "    for i in range(len(data)):\n",
    "        dgm = rips.fit_transform(data[local_neigh[i]])\n",
    "        \n",
    "        # here we only focus on betti 1\n",
    "\n",
    "        lifetime = dgm[1][:,1]-dgm[1][:,0]\n",
    "\n",
    "        r1 = radius[i][0]\n",
    "        r2 = radius[i][1]\n",
    "            \n",
    "        N = np.where(lifetime>r2-r1)[0]\n",
    "\n",
    "        if len(N)==0:\n",
    "            mask.append(0) #boundary\n",
    "        elif len(N)==1:\n",
    "            mask.append(1) #regular point\n",
    "        else:\n",
    "            mask.append(2) # singular point\n",
    "\n",
    "    return np.array(mask)"
   ]
  },
  {
   "cell_type": "code",
   "execution_count": null,
   "metadata": {},
   "outputs": [],
   "source": [
    "k2 = 80\n",
    "k1 = 40\n",
    "mask = compute_local_persistence(point_cloud, [k1, k2])"
   ]
  },
  {
   "cell_type": "code",
   "execution_count": null,
   "metadata": {},
   "outputs": [],
   "source": [
    "sns.set()\n",
    "fig = plt.figure(figsize = (10,7))\n",
    "ax = fig.add_subplot(projection='3d')\n",
    "colormap = np.array(['black', 'b', 'r'])\n",
    "ax.scatter(point_cloud[:,0], point_cloud[:,1], point_cloud[:,2], s=7, c = colormap[mask], alpha = 0.5);"
   ]
  },
  {
   "cell_type": "markdown",
   "metadata": {},
   "source": [
    "*******************************************************************************************************************************\n",
    "## 6. Local dimension"
   ]
  },
  {
   "cell_type": "markdown",
   "metadata": {},
   "source": [
    "**Property:** If a manifold has dimension $d$, then $H_k = 0$ for $k>d$."
   ]
  },
  {
   "cell_type": "code",
   "execution_count": null,
   "metadata": {},
   "outputs": [],
   "source": [
    "def line(l,n):\n",
    "    return np.column_stack((np.random.normal(0,0.01, n) , np.random.normal(0,0.01, n), np.random.sample(n)*2*l-l))"
   ]
  },
  {
   "cell_type": "code",
   "execution_count": null,
   "metadata": {},
   "outputs": [],
   "source": [
    "line_pc = line(10, 150)\n",
    "sphere_pc = tadasets.dsphere(n=2000)\n",
    "point_cloud = np.concatenate((line_pc, sphere_pc), axis = 0)"
   ]
  },
  {
   "cell_type": "code",
   "execution_count": null,
   "metadata": {},
   "outputs": [],
   "source": [
    "sns.set()\n",
    "fig = plt.figure(figsize = (10,15))\n",
    "ax = fig.add_subplot(projection='3d')\n",
    "ax.scatter(point_cloud[:,0], point_cloud[:,1], point_cloud[:,2], s=10, alpha = 0.3);"
   ]
  },
  {
   "cell_type": "code",
   "execution_count": null,
   "metadata": {},
   "outputs": [],
   "source": [
    "from sklearn.neighbors import KDTree\n",
    "from sklearn.decomposition import PCA"
   ]
  },
  {
   "cell_type": "code",
   "execution_count": null,
   "metadata": {},
   "outputs": [],
   "source": [
    "idx = 10\n",
    "\n",
    "# Local pointcloud\n",
    "k= 50\n",
    "kd_tree = KDTree(point_cloud, leaf_size=2)\n",
    "dist, ind = kd_tree.query(np.array([point_cloud[idx]]), k = k)\n",
    "local_pointcloud = point_cloud[ind[0]]\n",
    "\n",
    "# apply PCA to the local pointcloud\n",
    "n_components = 3\n",
    "pca = PCA(n_components=n_components)\n",
    "local_dimred = pca.fit_transform(local_pointcloud)\n",
    "var = pca.explained_variance_ratio_\n",
    "plt.plot(var);\n",
    "print(var)"
   ]
  },
  {
   "cell_type": "code",
   "execution_count": null,
   "metadata": {},
   "outputs": [],
   "source": [
    "# construct local pointclouds\n",
    "def local_pointclouds(k, pointcloud):\n",
    "    kd_tree = KDTree(pointcloud, leaf_size=2)\n",
    "\n",
    "    def neighbors_k(idx, k):\n",
    "        return kd_tree.query(np.array([pointcloud[idx]]), k = k)\n",
    "\n",
    "    def local_pointcloud(idx, k):\n",
    "        dist, ind = neighbors_k(idx, k)\n",
    "        return pointcloud[ind[0]]\n",
    "\n",
    "    return np.array([local_pointcloud(i,k) for i in range(len(pointcloud))])\n",
    "\n",
    "\n",
    "# apply PCA to local pointclouds\n",
    "def local_pca(k, pointcloud, threshold, max_components = 10) :\n",
    "    \n",
    "    dimensions = []\n",
    "    lp = local_pointclouds(k, pointcloud)\n",
    "    max_components = min(max_components, len(pointcloud[0]))\n",
    "    \n",
    "    for i in range(len(pointcloud)) :\n",
    "        local = lp[i]\n",
    "        pca = PCA(n_components=max_components)\n",
    "        local_dimred = pca.fit_transform(local)\n",
    "        vs = pca.explained_variance_ratio_\n",
    "        local_dim = 1\n",
    "        recovered_variance = vs[local_dim-1]\n",
    "        while recovered_variance < threshold:\n",
    "            local_dim +=1\n",
    "            recovered_variance = (vs[:local_dim]).sum()\n",
    "        dimensions.append(local_dim)    \n",
    "            \n",
    "    return dimensions"
   ]
  },
  {
   "cell_type": "code",
   "execution_count": null,
   "metadata": {},
   "outputs": [],
   "source": [
    "dimensions = local_pca(50, point_cloud, 0.8)"
   ]
  },
  {
   "cell_type": "code",
   "execution_count": null,
   "metadata": {},
   "outputs": [],
   "source": [
    "sns.set()\n",
    "fig = plt.figure(figsize = (10,15))\n",
    "ax = fig.add_subplot(projection='3d')\n",
    "colormap = np.array(['black', 'r', 'b', 'g'])\n",
    "ax.scatter(point_cloud[:,0], point_cloud[:,1], point_cloud[:,2], s=10, alpha = 0.3, c = colormap[dimensions]);"
   ]
  },
  {
   "cell_type": "markdown",
   "metadata": {},
   "source": [
    "*******************************************************************************************************************************\n",
    "## 7. An estimator of the intrinsic metric"
   ]
  },
  {
   "cell_type": "markdown",
   "metadata": {},
   "source": [
    "Given a point cloud, compute kNN-distances for a given integer parameter $k>0$ as follows:\n",
    "\n",
    "$$ d_{kNN}(x,y) = \\displaystyle \\inf_{\\gamma}\\sum_{i}|x_i-x_{i-1}|$$\n",
    "    \n",
    "where the infimum is over all finite paths $\\gamma = (x_0 = x, x_1, \\dots, x_{r-1}, x_r = y)$ between $x$ and $y$ over the kNN graph over the point cloud.\n",
    "    \n",
    "In the foundational [article](https://www.science.org/doi/10.1126/science.290.5500.2319) of the popular method ISOMAP, the authors show that if the sample belongs to a Riemannian manifold $\\mathcal M$ embedded in the Euclidean space, then $d_{kNN}(x,y)$ converges to the geodesic distance $d_{\\mathcal M}(x,y)$."
   ]
  },
  {
   "cell_type": "code",
   "execution_count": null,
   "metadata": {},
   "outputs": [],
   "source": [
    "from fermat import Fermat\n",
    "from scipy.spatial import distance_matrix\n",
    "\n",
    "def compute_knn_distance(data, k):\n",
    "    '''\n",
    "    Computes the  estimator of geodesic distance of the algorithm ISOMAP.\n",
    "    '''\n",
    "    distances = distance_matrix(data,data)\n",
    "    f_aprox_D = Fermat(1, path_method='D', k=k) \n",
    "    f_aprox_D.fit(distances)\n",
    "    adj_dist = f_aprox_D.get_distances() \n",
    "    \n",
    "    return adj_dist"
   ]
  },
  {
   "cell_type": "code",
   "execution_count": null,
   "metadata": {},
   "outputs": [],
   "source": [
    "def trefoil(n):\n",
    "    '''\n",
    "    Sample on trefoil curve.\n",
    "    \n",
    "    Input:\n",
    "    n: an integer, number of points in the sample\n",
    "    Output:\n",
    "    data: a nx3 array, representing points in R^3\n",
    "    '''\n",
    "    \n",
    "    phi = np.linspace(0,2*np.pi,n)\n",
    "    \n",
    "    X = np.sin(phi)+2*np.sin(2*phi)\n",
    "    Y = np.cos(phi)-2*np.cos(2*phi)\n",
    "    Z = - np.sin(3*phi)\n",
    "\n",
    "    data = np.column_stack((X,Y,Z))\n",
    "    \n",
    "    return data"
   ]
  },
  {
   "cell_type": "code",
   "execution_count": null,
   "metadata": {},
   "outputs": [],
   "source": [
    "point_cloud = trefoil(200)\n",
    "sns.set()\n",
    "fig = plt.figure(figsize = (10,7))\n",
    "ax = fig.add_subplot(projection='3d')\n",
    "ax.scatter(point_cloud[:,0], point_cloud[:,1], point_cloud[:,2], s=10, alpha = 0.5);\n",
    "ax.view_init(90, 0)"
   ]
  },
  {
   "cell_type": "code",
   "execution_count": null,
   "metadata": {},
   "outputs": [],
   "source": [
    "rips = Rips()\n",
    "dgms = rips.fit_transform(point_cloud)\n",
    "d_matrix = compute_knn_distance(point_cloud, 10)\n",
    "dgms_intrinsic = rips.fit_transform(d_matrix, distance_matrix = True)\n",
    "\n",
    "#Plot the curve and the persistent diagrams and compare\n",
    "plt.figure(figsize=(9, 3))\n",
    "ax = plt.subplot(121, projection='3d')\n",
    "\n",
    "sns.set()\n",
    "plt.subplot(121)\n",
    "rips.plot(dgms)\n",
    "plt.title(\"Euclidean distance\");\n",
    "sns.set()\n",
    "plt.subplot(122)\n",
    "rips.plot(dgms_intrinsic)\n",
    "plt.title(\"Geodesic distance\");"
   ]
  },
  {
   "cell_type": "markdown",
   "metadata": {},
   "source": [
    "*******************************************************************************************************************************\n",
    "## 8. Low dimensional visualization (ISOMAP)\n"
   ]
  },
  {
   "cell_type": "code",
   "execution_count": null,
   "metadata": {},
   "outputs": [],
   "source": [
    "from sklearn.manifold import Isomap\n",
    "\n",
    "embedding = Isomap(n_components= 2, n_neighbors=10)\n",
    "\n",
    "embedding_data = embedding.fit_transform(point_cloud)\n",
    "\n",
    "sns.set()\n",
    "fig = plt.figure()\n",
    "plt.scatter(embedding_data[:,0], embedding_data[:,1], s=5);"
   ]
  },
  {
   "cell_type": "code",
   "execution_count": null,
   "metadata": {},
   "outputs": [],
   "source": []
  }
 ],
 "metadata": {
  "kernelspec": {
   "display_name": "Python 3",
   "language": "python",
   "name": "python3"
  },
  "language_info": {
   "codemirror_mode": {
    "name": "ipython",
    "version": 3
   },
   "file_extension": ".py",
   "mimetype": "text/x-python",
   "name": "python",
   "nbconvert_exporter": "python",
   "pygments_lexer": "ipython3",
   "version": "3.6.8"
  }
 },
 "nbformat": 4,
 "nbformat_minor": 4
}
